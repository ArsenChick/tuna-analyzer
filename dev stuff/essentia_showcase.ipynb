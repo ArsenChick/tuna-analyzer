{
 "cells": [
  {
   "cell_type": "code",
   "execution_count": 3,
   "id": "e9272f7f",
   "metadata": {},
   "outputs": [],
   "source": [
    "# to hide tensorflow endless output\n",
    "import os\n",
    "os.environ['TF_CPP_MIN_LOG_LEVEL'] = '3' "
   ]
  },
  {
   "cell_type": "code",
   "execution_count": 4,
   "id": "d3d6ef0f-da83-4857-8559-c45f8502b374",
   "metadata": {},
   "outputs": [],
   "source": [
    "from essentia.standard import MonoLoader, TensorflowPredictVGGish, PercivalBpmEstimator, TonalExtractor, Danceability, TensorflowPredictMusiCNN\n",
    "import matplotlib.pyplot as plt\n",
    "import json"
   ]
  },
  {
   "cell_type": "code",
   "execution_count": 5,
   "id": "c169467b-3d07-4854-8dd8-22d78ed5ebf8",
   "metadata": {},
   "outputs": [
    {
     "ename": "RuntimeError",
     "evalue": "Error while configuring MonoLoader: AudioLoader: Could not open file \"never-gonna-give-you-up.mp3\", error = No such file or directory",
     "output_type": "error",
     "traceback": [
      "\u001b[0;31m---------------------------------------------------------------------------\u001b[0m",
      "\u001b[0;31mRuntimeError\u001b[0m                              Traceback (most recent call last)",
      "\u001b[1;32m/home/nikita/ml-experiments/audio_analysis/essentia_showcase.ipynb Cell 3'\u001b[0m in \u001b[0;36m<cell line: 3>\u001b[0;34m()\u001b[0m\n\u001b[1;32m      <a href='vscode-notebook-cell:/home/nikita/ml-experiments/audio_analysis/essentia_showcase.ipynb#ch0000001?line=0'>1</a>\u001b[0m \u001b[39m# Convert mp3 to vector_real\u001b[39;00m\n\u001b[1;32m      <a href='vscode-notebook-cell:/home/nikita/ml-experiments/audio_analysis/essentia_showcase.ipynb#ch0000001?line=1'>2</a>\u001b[0m filename \u001b[39m=\u001b[39m \u001b[39m'\u001b[39m\u001b[39mnever-gonna-give-you-up.mp3\u001b[39m\u001b[39m'\u001b[39m\n\u001b[0;32m----> <a href='vscode-notebook-cell:/home/nikita/ml-experiments/audio_analysis/essentia_showcase.ipynb#ch0000001?line=2'>3</a>\u001b[0m audio \u001b[39m=\u001b[39m MonoLoader(filename\u001b[39m=\u001b[39;49mfilename)()\n\u001b[1;32m      <a href='vscode-notebook-cell:/home/nikita/ml-experiments/audio_analysis/essentia_showcase.ipynb#ch0000001?line=4'>5</a>\u001b[0m \u001b[39m# Compute BPM\u001b[39;00m\n\u001b[1;32m      <a href='vscode-notebook-cell:/home/nikita/ml-experiments/audio_analysis/essentia_showcase.ipynb#ch0000001?line=5'>6</a>\u001b[0m bpm \u001b[39m=\u001b[39m PercivalBpmEstimator()(audio)\n",
      "File \u001b[0;32m~/.local/lib/python3.8/site-packages/essentia/standard.py:44\u001b[0m, in \u001b[0;36m_create_essentia_class.<locals>.Algo.__init__\u001b[0;34m(self, **kwargs)\u001b[0m\n\u001b[1;32m     <a href='file:///home/nikita/.local/lib/python3.8/site-packages/essentia/standard.py?line=40'>41</a>\u001b[0m _essentia\u001b[39m.\u001b[39mAlgorithm\u001b[39m.\u001b[39m\u001b[39m__init__\u001b[39m(\u001b[39mself\u001b[39m, name)\n\u001b[1;32m     <a href='file:///home/nikita/.local/lib/python3.8/site-packages/essentia/standard.py?line=42'>43</a>\u001b[0m \u001b[39m# configure the algorithm\u001b[39;00m\n\u001b[0;32m---> <a href='file:///home/nikita/.local/lib/python3.8/site-packages/essentia/standard.py?line=43'>44</a>\u001b[0m \u001b[39mself\u001b[39;49m\u001b[39m.\u001b[39;49mconfigure(\u001b[39m*\u001b[39;49m\u001b[39m*\u001b[39;49mkwargs)\n",
      "File \u001b[0;32m~/.local/lib/python3.8/site-packages/essentia/standard.py:64\u001b[0m, in \u001b[0;36m_create_essentia_class.<locals>.Algo.configure\u001b[0;34m(self, **kwargs)\u001b[0m\n\u001b[1;32m     <a href='file:///home/nikita/.local/lib/python3.8/site-packages/essentia/standard.py?line=58'>59</a>\u001b[0m         \u001b[39mraise\u001b[39;00m \u001b[39mTypeError\u001b[39;00m(\u001b[39m'\u001b[39m\u001b[39mError cannot convert parameter \u001b[39m\u001b[39m%s\u001b[39;00m\u001b[39m to \u001b[39m\u001b[39m%s\u001b[39;00m\u001b[39m'\u001b[39m\\\n\u001b[1;32m     <a href='file:///home/nikita/.local/lib/python3.8/site-packages/essentia/standard.py?line=59'>60</a>\u001b[0m                         \u001b[39m%\u001b[39m(\u001b[39mstr\u001b[39m(_c\u001b[39m.\u001b[39mdetermineEdt(val)),\u001b[39mstr\u001b[39m(goalType))) \u001b[39m#\\''+name+'\\' parameter: '+str(e))\u001b[39;00m\n\u001b[1;32m     <a href='file:///home/nikita/.local/lib/python3.8/site-packages/essentia/standard.py?line=61'>62</a>\u001b[0m     kwargs[name] \u001b[39m=\u001b[39m convertedVal\n\u001b[0;32m---> <a href='file:///home/nikita/.local/lib/python3.8/site-packages/essentia/standard.py?line=63'>64</a>\u001b[0m \u001b[39mself\u001b[39;49m\u001b[39m.\u001b[39;49m__configure__(\u001b[39m*\u001b[39;49m\u001b[39m*\u001b[39;49mkwargs)\n",
      "\u001b[0;31mRuntimeError\u001b[0m: Error while configuring MonoLoader: AudioLoader: Could not open file \"never-gonna-give-you-up.mp3\", error = No such file or directory"
     ]
    }
   ],
   "source": [
    "# Convert mp3 to vector_real\n",
    "filename = 'never-gonna-give-you-up.mp3'\n",
    "audio = MonoLoader(filename=filename)()\n",
    "\n",
    "# Compute BPM\n",
    "bpm = PercivalBpmEstimator()(audio)\n",
    "\n",
    "# Compute tone\n",
    "ret = TonalExtractor()(audio)\n",
    "key = ret[9]\n",
    "scale = ret[10]\n",
    "\n",
    "# Compute danceability\n",
    "ret = Danceability()(audio)\n",
    "dance = ret[0] * 10 / 3\n",
    "\n",
    "# Compute happiness\n",
    "with open('mood_happy-musicnn-mtt-2.json', 'r') as json_file:\n",
    "    metadata1 = json.load(json_file)\n",
    "model_h = TensorflowPredictMusiCNN(graphFilename=\"mood_happy-musicnn-mtt-2.pb\")\n",
    "activations_h = model_h(audio)\n",
    "\n",
    "# Compute energy as: aggresive + mood_party + bpm\n",
    "with open('mood_aggressive-musicnn-mtt-2.json', 'r') as json_file:\n",
    "    metadata2 = json.load(json_file)\n",
    "model_a = TensorflowPredictMusiCNN(graphFilename=\"mood_aggressive-musicnn-mtt-2.pb\")\n",
    "activations_a = model_a(audio)\n",
    "\n",
    "with open('mood_party-musicnn-mtt-2.json', 'r') as json_file:\n",
    "    metadata3 = json.load(json_file)\n",
    "model_p = TensorflowPredictMusiCNN(graphFilename=\"mood_party-musicnn-mtt-2.pb\")\n",
    "activations_p = model_a(audio)\n",
    "\n",
    "happy = 0\n",
    "aggressive = 0\n",
    "party = 0\n",
    "for label, probability in zip(metadata1['classes'], activations_h.mean(axis=0)):\n",
    "    if label == 'happy':\n",
    "        happy = probability\n",
    "        \n",
    "for label, probability in zip(metadata2['classes'], activations_a.mean(axis=0)):\n",
    "    if label == 'aggressive':\n",
    "        aggressive = probability\n",
    "        \n",
    "for label, probability in zip(metadata3['classes'], activations_p.mean(axis=0)):\n",
    "    if label == 'party':\n",
    "        party = probability"
   ]
  },
  {
   "cell_type": "code",
   "execution_count": 3,
   "id": "7e62837a-e80f-4aff-90d3-c676318cf5e0",
   "metadata": {},
   "outputs": [
    {
     "name": "stdout",
     "output_type": "stream",
     "text": [
      "bpm: 114\n",
      "tone: C# major\n",
      "dance: 5\n",
      "energy: 4\n",
      "happiness: 3\n"
     ]
    }
   ],
   "source": [
    "print(f'bpm: {bpm:.0f}')\n",
    "print(f'tone: {key} {scale}')\n",
    "print(f'dance: {dance:.0f}')\n",
    "print(f'energy: {party * aggressive * bpm / 10:.0f}')\n",
    "print(f'happiness: {happy * 10:.0f}')"
   ]
  }
 ],
 "metadata": {
  "kernelspec": {
   "display_name": "Python 3 (ipykernel)",
   "language": "python",
   "name": "python3"
  },
  "language_info": {
   "codemirror_mode": {
    "name": "ipython",
    "version": 3
   },
   "file_extension": ".py",
   "mimetype": "text/x-python",
   "name": "python",
   "nbconvert_exporter": "python",
   "pygments_lexer": "ipython3",
   "version": "3.8.10"
  }
 },
 "nbformat": 4,
 "nbformat_minor": 5
}
